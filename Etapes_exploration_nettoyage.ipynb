{
 "cells": [
  {
   "cell_type": "markdown",
   "id": "5df5533d",
   "metadata": {},
   "source": [
    "## Vérification et nettoyage des données"
   ]
  },
  {
   "cell_type": "code",
   "execution_count": 258,
   "id": "ff478500",
   "metadata": {},
   "outputs": [],
   "source": [
    "import pandas as pd\n",
    "import numpy as np\n",
    "import os \n",
    "import matplotlib.pyplot as plt\n",
    "population=\"/Users/yathyarayamauchiferreira/Documents/OpenClassrooms/Projet 4/DAN-P4-FAO/population.csv\"\n",
    "dispo_ali=\"/Users/yathyarayamauchiferreira/Documents/OpenClassrooms/Projet 4/DAN-P4-FAO/dispo_alimentaire.csv\"\n",
    "aide_ali=\"/Users/yathyarayamauchiferreira/Documents/OpenClassrooms/Projet 4/DAN-P4-FAO/aide_alimentaire.csv\"\n",
    "sous_nutri=\"/Users/yathyarayamauchiferreira/Documents/OpenClassrooms/Projet 4/DAN-P4-FAO/sous_nutrition.csv\"\n"
   ]
  },
  {
   "cell_type": "markdown",
   "id": "0e2be8bc",
   "metadata": {},
   "source": [
    "### Traitement du Fichier AIDE ALIMENTAIRE"
   ]
  },
  {
   "cell_type": "markdown",
   "id": "66ebc27f",
   "metadata": {},
   "source": [
    "#### Importation et lecture du fichier CSV"
   ]
  },
  {
   "cell_type": "code",
   "execution_count": 96,
   "id": "008a60b4",
   "metadata": {},
   "outputs": [
    {
     "data": {
      "text/html": [
       "<div>\n",
       "<style scoped>\n",
       "    .dataframe tbody tr th:only-of-type {\n",
       "        vertical-align: middle;\n",
       "    }\n",
       "\n",
       "    .dataframe tbody tr th {\n",
       "        vertical-align: top;\n",
       "    }\n",
       "\n",
       "    .dataframe thead th {\n",
       "        text-align: right;\n",
       "    }\n",
       "</style>\n",
       "<table border=\"1\" class=\"dataframe\">\n",
       "  <thead>\n",
       "    <tr style=\"text-align: right;\">\n",
       "      <th></th>\n",
       "      <th>Pays bénéficiaire</th>\n",
       "      <th>Année</th>\n",
       "      <th>Produit</th>\n",
       "      <th>Valeur</th>\n",
       "    </tr>\n",
       "  </thead>\n",
       "  <tbody>\n",
       "    <tr>\n",
       "      <th>0</th>\n",
       "      <td>Afghanistan</td>\n",
       "      <td>2013</td>\n",
       "      <td>Autres non-céréales</td>\n",
       "      <td>682</td>\n",
       "    </tr>\n",
       "    <tr>\n",
       "      <th>1</th>\n",
       "      <td>Afghanistan</td>\n",
       "      <td>2014</td>\n",
       "      <td>Autres non-céréales</td>\n",
       "      <td>335</td>\n",
       "    </tr>\n",
       "    <tr>\n",
       "      <th>2</th>\n",
       "      <td>Afghanistan</td>\n",
       "      <td>2013</td>\n",
       "      <td>Blé et Farin</td>\n",
       "      <td>39224</td>\n",
       "    </tr>\n",
       "    <tr>\n",
       "      <th>3</th>\n",
       "      <td>Afghanistan</td>\n",
       "      <td>2014</td>\n",
       "      <td>Blé et Farin</td>\n",
       "      <td>15160</td>\n",
       "    </tr>\n",
       "    <tr>\n",
       "      <th>4</th>\n",
       "      <td>Afghanistan</td>\n",
       "      <td>2013</td>\n",
       "      <td>Céréales</td>\n",
       "      <td>40504</td>\n",
       "    </tr>\n",
       "  </tbody>\n",
       "</table>\n",
       "</div>"
      ],
      "text/plain": [
       "  Pays bénéficiaire  Année              Produit  Valeur\n",
       "0       Afghanistan   2013  Autres non-céréales     682\n",
       "1       Afghanistan   2014  Autres non-céréales     335\n",
       "2       Afghanistan   2013         Blé et Farin   39224\n",
       "3       Afghanistan   2014         Blé et Farin   15160\n",
       "4       Afghanistan   2013             Céréales   40504"
      ]
     },
     "execution_count": 96,
     "metadata": {},
     "output_type": "execute_result"
    }
   ],
   "source": [
    "df_aide_ali = pd.read_csv(aide_ali)\n",
    "df_aide_ali.head()"
   ]
  },
  {
   "cell_type": "markdown",
   "id": "4e40620e",
   "metadata": {},
   "source": [
    "#### Vérifier le nombre de lignes"
   ]
  },
  {
   "cell_type": "code",
   "execution_count": 97,
   "id": "28ff47a6",
   "metadata": {},
   "outputs": [
    {
     "data": {
      "text/plain": [
       "(1475, 4)"
      ]
     },
     "execution_count": 97,
     "metadata": {},
     "output_type": "execute_result"
    }
   ],
   "source": [
    "df_aide_ali.shape"
   ]
  },
  {
   "cell_type": "markdown",
   "id": "b18fd747",
   "metadata": {},
   "source": [
    "#### Vérification de type de colonne et des valeurs manquantes"
   ]
  },
  {
   "cell_type": "code",
   "execution_count": 98,
   "id": "82ece3d0",
   "metadata": {},
   "outputs": [
    {
     "name": "stdout",
     "output_type": "stream",
     "text": [
      "<class 'pandas.core.frame.DataFrame'>\n",
      "RangeIndex: 1475 entries, 0 to 1474\n",
      "Data columns (total 4 columns):\n",
      " #   Column             Non-Null Count  Dtype \n",
      "---  ------             --------------  ----- \n",
      " 0   Pays bénéficiaire  1475 non-null   object\n",
      " 1   Année              1475 non-null   int64 \n",
      " 2   Produit            1475 non-null   object\n",
      " 3   Valeur             1475 non-null   int64 \n",
      "dtypes: int64(2), object(2)\n",
      "memory usage: 46.2+ KB\n"
     ]
    }
   ],
   "source": [
    "df_aide_ali.info()"
   ]
  },
  {
   "cell_type": "markdown",
   "id": "8c79932d",
   "metadata": {},
   "source": [
    "on remarque qu'il n'a a pas des valeurs manquantes et les types des colonnes sont bons"
   ]
  },
  {
   "cell_type": "markdown",
   "id": "17a9e421",
   "metadata": {},
   "source": [
    "#### Vérifier s'il y a des doublons (duplicate) - une ligne qui contient la même années, le même produit et le même pays"
   ]
  },
  {
   "cell_type": "code",
   "execution_count": 140,
   "id": "f6cb9746",
   "metadata": {},
   "outputs": [
    {
     "data": {
      "text/plain": [
       "0"
      ]
     },
     "execution_count": 140,
     "metadata": {},
     "output_type": "execute_result"
    }
   ],
   "source": [
    "df_aide_ali.duplicated(subset=['Pays bénéficiaire','Année','Produit']).sum()"
   ]
  },
  {
   "cell_type": "markdown",
   "id": "9690604f",
   "metadata": {},
   "source": [
    "#### Pour avoir une idée sur le statistiques descriptives des variables quantitatives"
   ]
  },
  {
   "cell_type": "code",
   "execution_count": 141,
   "id": "0d26e28d",
   "metadata": {},
   "outputs": [
    {
     "data": {
      "text/html": [
       "<div>\n",
       "<style scoped>\n",
       "    .dataframe tbody tr th:only-of-type {\n",
       "        vertical-align: middle;\n",
       "    }\n",
       "\n",
       "    .dataframe tbody tr th {\n",
       "        vertical-align: top;\n",
       "    }\n",
       "\n",
       "    .dataframe thead th {\n",
       "        text-align: right;\n",
       "    }\n",
       "</style>\n",
       "<table border=\"1\" class=\"dataframe\">\n",
       "  <thead>\n",
       "    <tr style=\"text-align: right;\">\n",
       "      <th></th>\n",
       "      <th>Année</th>\n",
       "      <th>Valeur</th>\n",
       "    </tr>\n",
       "  </thead>\n",
       "  <tbody>\n",
       "    <tr>\n",
       "      <th>count</th>\n",
       "      <td>1475.000000</td>\n",
       "      <td>1475.000000</td>\n",
       "    </tr>\n",
       "    <tr>\n",
       "      <th>mean</th>\n",
       "      <td>2014.054237</td>\n",
       "      <td>7481.966780</td>\n",
       "    </tr>\n",
       "    <tr>\n",
       "      <th>std</th>\n",
       "      <td>0.946916</td>\n",
       "      <td>23339.531424</td>\n",
       "    </tr>\n",
       "    <tr>\n",
       "      <th>min</th>\n",
       "      <td>2013.000000</td>\n",
       "      <td>0.000000</td>\n",
       "    </tr>\n",
       "    <tr>\n",
       "      <th>25%</th>\n",
       "      <td>2013.000000</td>\n",
       "      <td>287.500000</td>\n",
       "    </tr>\n",
       "    <tr>\n",
       "      <th>50%</th>\n",
       "      <td>2014.000000</td>\n",
       "      <td>1178.000000</td>\n",
       "    </tr>\n",
       "    <tr>\n",
       "      <th>75%</th>\n",
       "      <td>2015.000000</td>\n",
       "      <td>4334.500000</td>\n",
       "    </tr>\n",
       "    <tr>\n",
       "      <th>max</th>\n",
       "      <td>2016.000000</td>\n",
       "      <td>265013.000000</td>\n",
       "    </tr>\n",
       "  </tbody>\n",
       "</table>\n",
       "</div>"
      ],
      "text/plain": [
       "             Année         Valeur\n",
       "count  1475.000000    1475.000000\n",
       "mean   2014.054237    7481.966780\n",
       "std       0.946916   23339.531424\n",
       "min    2013.000000       0.000000\n",
       "25%    2013.000000     287.500000\n",
       "50%    2014.000000    1178.000000\n",
       "75%    2015.000000    4334.500000\n",
       "max    2016.000000  265013.000000"
      ]
     },
     "execution_count": 141,
     "metadata": {},
     "output_type": "execute_result"
    }
   ],
   "source": [
    "df_aide_ali.describe()"
   ]
  },
  {
   "cell_type": "markdown",
   "id": "15ee4ac3",
   "metadata": {},
   "source": [
    "#### Changement de nom de la colonne Pays bénéficiaire par Zone pour correspondre avec les autres tables:"
   ]
  },
  {
   "cell_type": "code",
   "execution_count": 256,
   "id": "54519a6a",
   "metadata": {},
   "outputs": [],
   "source": [
    "df_aide_ali.rename(columns = {'Pays bénéficiaire': 'Zone'},inplace=True)"
   ]
  },
  {
   "cell_type": "markdown",
   "id": "ae91ab36",
   "metadata": {},
   "source": [
    "#### generer fichier aide_ali CSV traité (je n'ai rien changé sur ce fichier)\n"
   ]
  },
  {
   "cell_type": "code",
   "execution_count": 257,
   "id": "2a6f0d65",
   "metadata": {},
   "outputs": [],
   "source": [
    "aide_ali_nettoye=\"/Users/yathyarayamauchiferreira/Documents/OpenClassrooms/Projet 4/DAN-P4-FAO/aide_alimentaire_nettoye.csv\"\n",
    "df_aide_ali.to_csv(aide_ali_nettoye, index=False)"
   ]
  },
  {
   "cell_type": "markdown",
   "id": "7ee7614b",
   "metadata": {},
   "source": [
    "### Traitement Fichier DISPONIBILITÉ ALIMENTAIRE"
   ]
  },
  {
   "cell_type": "markdown",
   "id": "a5a418fc",
   "metadata": {},
   "source": [
    "#### Lecture du fichier CSV"
   ]
  },
  {
   "cell_type": "code",
   "execution_count": 146,
   "id": "084a145d",
   "metadata": {},
   "outputs": [
    {
     "data": {
      "text/html": [
       "<div>\n",
       "<style scoped>\n",
       "    .dataframe tbody tr th:only-of-type {\n",
       "        vertical-align: middle;\n",
       "    }\n",
       "\n",
       "    .dataframe tbody tr th {\n",
       "        vertical-align: top;\n",
       "    }\n",
       "\n",
       "    .dataframe thead th {\n",
       "        text-align: right;\n",
       "    }\n",
       "</style>\n",
       "<table border=\"1\" class=\"dataframe\">\n",
       "  <thead>\n",
       "    <tr style=\"text-align: right;\">\n",
       "      <th></th>\n",
       "      <th>Zone</th>\n",
       "      <th>Produit</th>\n",
       "      <th>Origine</th>\n",
       "      <th>Aliments pour animaux</th>\n",
       "      <th>Autres Utilisations</th>\n",
       "      <th>Disponibilité alimentaire (Kcal/personne/jour)</th>\n",
       "      <th>Disponibilité alimentaire en quantité (kg/personne/an)</th>\n",
       "      <th>Disponibilité de matière grasse en quantité (g/personne/jour)</th>\n",
       "      <th>Disponibilité de protéines en quantité (g/personne/jour)</th>\n",
       "      <th>Disponibilité intérieure</th>\n",
       "      <th>Exportations - Quantité</th>\n",
       "      <th>Importations - Quantité</th>\n",
       "      <th>Nourriture</th>\n",
       "      <th>Pertes</th>\n",
       "      <th>Production</th>\n",
       "      <th>Semences</th>\n",
       "      <th>Traitement</th>\n",
       "      <th>Variation de stock</th>\n",
       "    </tr>\n",
       "  </thead>\n",
       "  <tbody>\n",
       "    <tr>\n",
       "      <th>0</th>\n",
       "      <td>Afghanistan</td>\n",
       "      <td>Abats Comestible</td>\n",
       "      <td>animale</td>\n",
       "      <td>NaN</td>\n",
       "      <td>NaN</td>\n",
       "      <td>5.0</td>\n",
       "      <td>1.72</td>\n",
       "      <td>0.20</td>\n",
       "      <td>0.77</td>\n",
       "      <td>53.0</td>\n",
       "      <td>NaN</td>\n",
       "      <td>NaN</td>\n",
       "      <td>53.0</td>\n",
       "      <td>NaN</td>\n",
       "      <td>53.0</td>\n",
       "      <td>NaN</td>\n",
       "      <td>NaN</td>\n",
       "      <td>NaN</td>\n",
       "    </tr>\n",
       "    <tr>\n",
       "      <th>1</th>\n",
       "      <td>Afghanistan</td>\n",
       "      <td>Agrumes, Autres</td>\n",
       "      <td>vegetale</td>\n",
       "      <td>NaN</td>\n",
       "      <td>NaN</td>\n",
       "      <td>1.0</td>\n",
       "      <td>1.29</td>\n",
       "      <td>0.01</td>\n",
       "      <td>0.02</td>\n",
       "      <td>41.0</td>\n",
       "      <td>2.0</td>\n",
       "      <td>40.0</td>\n",
       "      <td>39.0</td>\n",
       "      <td>2.0</td>\n",
       "      <td>3.0</td>\n",
       "      <td>NaN</td>\n",
       "      <td>NaN</td>\n",
       "      <td>NaN</td>\n",
       "    </tr>\n",
       "    <tr>\n",
       "      <th>2</th>\n",
       "      <td>Afghanistan</td>\n",
       "      <td>Aliments pour enfants</td>\n",
       "      <td>vegetale</td>\n",
       "      <td>NaN</td>\n",
       "      <td>NaN</td>\n",
       "      <td>1.0</td>\n",
       "      <td>0.06</td>\n",
       "      <td>0.01</td>\n",
       "      <td>0.03</td>\n",
       "      <td>2.0</td>\n",
       "      <td>NaN</td>\n",
       "      <td>2.0</td>\n",
       "      <td>2.0</td>\n",
       "      <td>NaN</td>\n",
       "      <td>NaN</td>\n",
       "      <td>NaN</td>\n",
       "      <td>NaN</td>\n",
       "      <td>NaN</td>\n",
       "    </tr>\n",
       "  </tbody>\n",
       "</table>\n",
       "</div>"
      ],
      "text/plain": [
       "          Zone                Produit   Origine  Aliments pour animaux  \\\n",
       "0  Afghanistan       Abats Comestible   animale                    NaN   \n",
       "1  Afghanistan        Agrumes, Autres  vegetale                    NaN   \n",
       "2  Afghanistan  Aliments pour enfants  vegetale                    NaN   \n",
       "\n",
       "   Autres Utilisations  Disponibilité alimentaire (Kcal/personne/jour)  \\\n",
       "0                  NaN                                             5.0   \n",
       "1                  NaN                                             1.0   \n",
       "2                  NaN                                             1.0   \n",
       "\n",
       "   Disponibilité alimentaire en quantité (kg/personne/an)  \\\n",
       "0                                               1.72        \n",
       "1                                               1.29        \n",
       "2                                               0.06        \n",
       "\n",
       "   Disponibilité de matière grasse en quantité (g/personne/jour)  \\\n",
       "0                                               0.20               \n",
       "1                                               0.01               \n",
       "2                                               0.01               \n",
       "\n",
       "   Disponibilité de protéines en quantité (g/personne/jour)  \\\n",
       "0                                               0.77          \n",
       "1                                               0.02          \n",
       "2                                               0.03          \n",
       "\n",
       "   Disponibilité intérieure  Exportations - Quantité  Importations - Quantité  \\\n",
       "0                      53.0                      NaN                      NaN   \n",
       "1                      41.0                      2.0                     40.0   \n",
       "2                       2.0                      NaN                      2.0   \n",
       "\n",
       "   Nourriture  Pertes  Production  Semences  Traitement  Variation de stock  \n",
       "0        53.0     NaN        53.0       NaN         NaN                 NaN  \n",
       "1        39.0     2.0         3.0       NaN         NaN                 NaN  \n",
       "2         2.0     NaN         NaN       NaN         NaN                 NaN  "
      ]
     },
     "execution_count": 146,
     "metadata": {},
     "output_type": "execute_result"
    }
   ],
   "source": [
    "df_dispo_ali=pd.read_csv(dispo_ali)\n",
    "df_dispo_ali.head(3)"
   ]
  },
  {
   "cell_type": "markdown",
   "id": "56696d0b",
   "metadata": {},
   "source": [
    "#### Verifier le nombre de lignes"
   ]
  },
  {
   "cell_type": "code",
   "execution_count": 148,
   "id": "1afe4bc0",
   "metadata": {},
   "outputs": [
    {
     "data": {
      "text/plain": [
       "(15605, 18)"
      ]
     },
     "execution_count": 148,
     "metadata": {},
     "output_type": "execute_result"
    }
   ],
   "source": [
    "df_dispo_ali.shape"
   ]
  },
  {
   "cell_type": "markdown",
   "id": "702ef535",
   "metadata": {},
   "source": [
    "#### Vérification de type de colonne et des valeurs manquantes"
   ]
  },
  {
   "cell_type": "code",
   "execution_count": 149,
   "id": "e333872e",
   "metadata": {},
   "outputs": [
    {
     "name": "stdout",
     "output_type": "stream",
     "text": [
      "<class 'pandas.core.frame.DataFrame'>\n",
      "RangeIndex: 15605 entries, 0 to 15604\n",
      "Data columns (total 18 columns):\n",
      " #   Column                                                         Non-Null Count  Dtype  \n",
      "---  ------                                                         --------------  -----  \n",
      " 0   Zone                                                           15605 non-null  object \n",
      " 1   Produit                                                        15605 non-null  object \n",
      " 2   Origine                                                        15605 non-null  object \n",
      " 3   Aliments pour animaux                                          2720 non-null   float64\n",
      " 4   Autres Utilisations                                            5496 non-null   float64\n",
      " 5   Disponibilité alimentaire (Kcal/personne/jour)                 14241 non-null  float64\n",
      " 6   Disponibilité alimentaire en quantité (kg/personne/an)         14015 non-null  float64\n",
      " 7   Disponibilité de matière grasse en quantité (g/personne/jour)  11794 non-null  float64\n",
      " 8   Disponibilité de protéines en quantité (g/personne/jour)       11561 non-null  float64\n",
      " 9   Disponibilité intérieure                                       15382 non-null  float64\n",
      " 10  Exportations - Quantité                                        12226 non-null  float64\n",
      " 11  Importations - Quantité                                        14852 non-null  float64\n",
      " 12  Nourriture                                                     14015 non-null  float64\n",
      " 13  Pertes                                                         4278 non-null   float64\n",
      " 14  Production                                                     9180 non-null   float64\n",
      " 15  Semences                                                       2091 non-null   float64\n",
      " 16  Traitement                                                     2292 non-null   float64\n",
      " 17  Variation de stock                                             6776 non-null   float64\n",
      "dtypes: float64(15), object(3)\n",
      "memory usage: 2.1+ MB\n"
     ]
    }
   ],
   "source": [
    "df_dispo_ali.info()"
   ]
  },
  {
   "cell_type": "markdown",
   "id": "679ee18e",
   "metadata": {},
   "source": [
    "#### remplacer NaN par zéro sur la table Disponibilité Alimentaire"
   ]
  },
  {
   "cell_type": "code",
   "execution_count": 205,
   "id": "0beda2ec",
   "metadata": {},
   "outputs": [
    {
     "data": {
      "text/html": [
       "<div>\n",
       "<style scoped>\n",
       "    .dataframe tbody tr th:only-of-type {\n",
       "        vertical-align: middle;\n",
       "    }\n",
       "\n",
       "    .dataframe tbody tr th {\n",
       "        vertical-align: top;\n",
       "    }\n",
       "\n",
       "    .dataframe thead th {\n",
       "        text-align: right;\n",
       "    }\n",
       "</style>\n",
       "<table border=\"1\" class=\"dataframe\">\n",
       "  <thead>\n",
       "    <tr style=\"text-align: right;\">\n",
       "      <th></th>\n",
       "      <th>Zone</th>\n",
       "      <th>Produit</th>\n",
       "      <th>Origine</th>\n",
       "      <th>Aliments pour animaux</th>\n",
       "      <th>Autres Utilisations</th>\n",
       "      <th>Disponibilité alimentaire (Kcal/personne/jour)</th>\n",
       "      <th>Disponibilité alimentaire en quantité (kg/personne/an)</th>\n",
       "      <th>Disponibilité de matière grasse en quantité (g/personne/jour)</th>\n",
       "      <th>Disponibilité de protéines en quantité (g/personne/jour)</th>\n",
       "      <th>Disponibilité intérieure</th>\n",
       "      <th>Exportations - Quantité</th>\n",
       "      <th>Importations - Quantité</th>\n",
       "      <th>Nourriture</th>\n",
       "      <th>Pertes</th>\n",
       "      <th>Production</th>\n",
       "      <th>Semences</th>\n",
       "      <th>Traitement</th>\n",
       "      <th>Variation de stock</th>\n",
       "    </tr>\n",
       "  </thead>\n",
       "  <tbody>\n",
       "    <tr>\n",
       "      <th>0</th>\n",
       "      <td>Afghanistan</td>\n",
       "      <td>Abats Comestible</td>\n",
       "      <td>animale</td>\n",
       "      <td>0.0</td>\n",
       "      <td>0.0</td>\n",
       "      <td>5.0</td>\n",
       "      <td>1.72</td>\n",
       "      <td>0.20</td>\n",
       "      <td>0.77</td>\n",
       "      <td>53.0</td>\n",
       "      <td>0.0</td>\n",
       "      <td>0.0</td>\n",
       "      <td>53.0</td>\n",
       "      <td>0.0</td>\n",
       "      <td>53.0</td>\n",
       "      <td>0.0</td>\n",
       "      <td>0.0</td>\n",
       "      <td>0.0</td>\n",
       "    </tr>\n",
       "    <tr>\n",
       "      <th>1</th>\n",
       "      <td>Afghanistan</td>\n",
       "      <td>Agrumes, Autres</td>\n",
       "      <td>vegetale</td>\n",
       "      <td>0.0</td>\n",
       "      <td>0.0</td>\n",
       "      <td>1.0</td>\n",
       "      <td>1.29</td>\n",
       "      <td>0.01</td>\n",
       "      <td>0.02</td>\n",
       "      <td>41.0</td>\n",
       "      <td>2.0</td>\n",
       "      <td>40.0</td>\n",
       "      <td>39.0</td>\n",
       "      <td>2.0</td>\n",
       "      <td>3.0</td>\n",
       "      <td>0.0</td>\n",
       "      <td>0.0</td>\n",
       "      <td>0.0</td>\n",
       "    </tr>\n",
       "    <tr>\n",
       "      <th>2</th>\n",
       "      <td>Afghanistan</td>\n",
       "      <td>Aliments pour enfants</td>\n",
       "      <td>vegetale</td>\n",
       "      <td>0.0</td>\n",
       "      <td>0.0</td>\n",
       "      <td>1.0</td>\n",
       "      <td>0.06</td>\n",
       "      <td>0.01</td>\n",
       "      <td>0.03</td>\n",
       "      <td>2.0</td>\n",
       "      <td>0.0</td>\n",
       "      <td>2.0</td>\n",
       "      <td>2.0</td>\n",
       "      <td>0.0</td>\n",
       "      <td>0.0</td>\n",
       "      <td>0.0</td>\n",
       "      <td>0.0</td>\n",
       "      <td>0.0</td>\n",
       "    </tr>\n",
       "  </tbody>\n",
       "</table>\n",
       "</div>"
      ],
      "text/plain": [
       "          Zone                Produit   Origine  Aliments pour animaux  \\\n",
       "0  Afghanistan       Abats Comestible   animale                    0.0   \n",
       "1  Afghanistan        Agrumes, Autres  vegetale                    0.0   \n",
       "2  Afghanistan  Aliments pour enfants  vegetale                    0.0   \n",
       "\n",
       "   Autres Utilisations  Disponibilité alimentaire (Kcal/personne/jour)  \\\n",
       "0                  0.0                                             5.0   \n",
       "1                  0.0                                             1.0   \n",
       "2                  0.0                                             1.0   \n",
       "\n",
       "   Disponibilité alimentaire en quantité (kg/personne/an)  \\\n",
       "0                                               1.72        \n",
       "1                                               1.29        \n",
       "2                                               0.06        \n",
       "\n",
       "   Disponibilité de matière grasse en quantité (g/personne/jour)  \\\n",
       "0                                               0.20               \n",
       "1                                               0.01               \n",
       "2                                               0.01               \n",
       "\n",
       "   Disponibilité de protéines en quantité (g/personne/jour)  \\\n",
       "0                                               0.77          \n",
       "1                                               0.02          \n",
       "2                                               0.03          \n",
       "\n",
       "   Disponibilité intérieure  Exportations - Quantité  Importations - Quantité  \\\n",
       "0                      53.0                      0.0                      0.0   \n",
       "1                      41.0                      2.0                     40.0   \n",
       "2                       2.0                      0.0                      2.0   \n",
       "\n",
       "   Nourriture  Pertes  Production  Semences  Traitement  Variation de stock  \n",
       "0        53.0     0.0        53.0       0.0         0.0                 0.0  \n",
       "1        39.0     2.0         3.0       0.0         0.0                 0.0  \n",
       "2         2.0     0.0         0.0       0.0         0.0                 0.0  "
      ]
     },
     "execution_count": 205,
     "metadata": {},
     "output_type": "execute_result"
    }
   ],
   "source": [
    "df_dispo_ali.fillna({'Aliments pour animaux':0, 'Autres Utilisations':0, 'Disponibilité alimentaire (Kcal/personne/jour)':0, 'Disponibilité alimentaire en quantité (kg/personne/an)':0, 'Exportations - Quantité':0, 'Importations - Quantité':0, 'Nourriture':0,'Pertes':0, 'Production':0, 'Semences':0, 'Traitement':0, 'Variation de stock':0, 'Disponibilité de matière grasse en quantité (g/personne/jour)':0, 'Disponibilité de protéines en quantité (g/personne/jour)':0}, inplace=True)\n",
    "df_dispo_ali.head(3)"
   ]
  },
  {
   "cell_type": "markdown",
   "id": "1684ce47",
   "metadata": {},
   "source": [
    "#### vérifier s'il y a des doublons (duplicate) - on considere doublon une ligne qui a les mêmes valeurs sur 2 colonnes differentes\n"
   ]
  },
  {
   "cell_type": "code",
   "execution_count": 153,
   "id": "d9a40aa4",
   "metadata": {},
   "outputs": [
    {
     "data": {
      "text/plain": [
       "0"
      ]
     },
     "execution_count": 153,
     "metadata": {},
     "output_type": "execute_result"
    }
   ],
   "source": [
    "df_dispo_ali.duplicated(subset=['Zone','Produit']).sum()"
   ]
  },
  {
   "cell_type": "markdown",
   "id": "2b0cf546",
   "metadata": {},
   "source": [
    "#### avoir une idée sur le statistiques descriptives des variables quantitatives"
   ]
  },
  {
   "cell_type": "code",
   "execution_count": 155,
   "id": "91c5482c",
   "metadata": {},
   "outputs": [
    {
     "data": {
      "text/html": [
       "<div>\n",
       "<style scoped>\n",
       "    .dataframe tbody tr th:only-of-type {\n",
       "        vertical-align: middle;\n",
       "    }\n",
       "\n",
       "    .dataframe tbody tr th {\n",
       "        vertical-align: top;\n",
       "    }\n",
       "\n",
       "    .dataframe thead th {\n",
       "        text-align: right;\n",
       "    }\n",
       "</style>\n",
       "<table border=\"1\" class=\"dataframe\">\n",
       "  <thead>\n",
       "    <tr style=\"text-align: right;\">\n",
       "      <th></th>\n",
       "      <th>Aliments pour animaux</th>\n",
       "      <th>Autres Utilisations</th>\n",
       "      <th>Disponibilité alimentaire (Kcal/personne/jour)</th>\n",
       "      <th>Disponibilité alimentaire en quantité (kg/personne/an)</th>\n",
       "      <th>Disponibilité de matière grasse en quantité (g/personne/jour)</th>\n",
       "      <th>Disponibilité de protéines en quantité (g/personne/jour)</th>\n",
       "      <th>Disponibilité intérieure</th>\n",
       "      <th>Exportations - Quantité</th>\n",
       "      <th>Importations - Quantité</th>\n",
       "      <th>Nourriture</th>\n",
       "      <th>Pertes</th>\n",
       "      <th>Production</th>\n",
       "      <th>Semences</th>\n",
       "      <th>Traitement</th>\n",
       "      <th>Variation de stock</th>\n",
       "    </tr>\n",
       "  </thead>\n",
       "  <tbody>\n",
       "    <tr>\n",
       "      <th>count</th>\n",
       "      <td>15605.000000</td>\n",
       "      <td>15605.000000</td>\n",
       "      <td>15605.000000</td>\n",
       "      <td>15605.000000</td>\n",
       "      <td>15605.000000</td>\n",
       "      <td>15605.000000</td>\n",
       "      <td>15382.000000</td>\n",
       "      <td>15605.000000</td>\n",
       "      <td>15605.000000</td>\n",
       "      <td>15605.000000</td>\n",
       "      <td>15605.000000</td>\n",
       "      <td>15605.000000</td>\n",
       "      <td>15605.000000</td>\n",
       "      <td>15605.000000</td>\n",
       "      <td>15605.000000</td>\n",
       "    </tr>\n",
       "    <tr>\n",
       "      <th>mean</th>\n",
       "      <td>83.578661</td>\n",
       "      <td>55.432426</td>\n",
       "      <td>31.748927</td>\n",
       "      <td>7.830948</td>\n",
       "      <td>0.969754</td>\n",
       "      <td>0.906513</td>\n",
       "      <td>640.293460</td>\n",
       "      <td>86.649023</td>\n",
       "      <td>83.053701</td>\n",
       "      <td>312.480487</td>\n",
       "      <td>29.073887</td>\n",
       "      <td>641.440564</td>\n",
       "      <td>9.912272</td>\n",
       "      <td>141.280807</td>\n",
       "      <td>-6.690292</td>\n",
       "    </tr>\n",
       "    <tr>\n",
       "      <th>std</th>\n",
       "      <td>1779.289153</td>\n",
       "      <td>3013.629812</td>\n",
       "      <td>102.961194</td>\n",
       "      <td>23.478909</td>\n",
       "      <td>3.246695</td>\n",
       "      <td>3.143516</td>\n",
       "      <td>9067.267153</td>\n",
       "      <td>933.435208</td>\n",
       "      <td>700.099451</td>\n",
       "      <td>4242.854724</td>\n",
       "      <td>584.672236</td>\n",
       "      <td>9270.864198</td>\n",
       "      <td>194.897843</td>\n",
       "      <td>3992.567621</td>\n",
       "      <td>362.380787</td>\n",
       "    </tr>\n",
       "    <tr>\n",
       "      <th>min</th>\n",
       "      <td>0.000000</td>\n",
       "      <td>0.000000</td>\n",
       "      <td>-21.000000</td>\n",
       "      <td>-1.930000</td>\n",
       "      <td>-0.030000</td>\n",
       "      <td>-0.370000</td>\n",
       "      <td>-3430.000000</td>\n",
       "      <td>-41.000000</td>\n",
       "      <td>-201.000000</td>\n",
       "      <td>-246.000000</td>\n",
       "      <td>0.000000</td>\n",
       "      <td>0.000000</td>\n",
       "      <td>0.000000</td>\n",
       "      <td>-19.000000</td>\n",
       "      <td>-39863.000000</td>\n",
       "    </tr>\n",
       "    <tr>\n",
       "      <th>25%</th>\n",
       "      <td>0.000000</td>\n",
       "      <td>0.000000</td>\n",
       "      <td>0.000000</td>\n",
       "      <td>0.010000</td>\n",
       "      <td>0.000000</td>\n",
       "      <td>0.000000</td>\n",
       "      <td>0.000000</td>\n",
       "      <td>0.000000</td>\n",
       "      <td>0.000000</td>\n",
       "      <td>0.000000</td>\n",
       "      <td>0.000000</td>\n",
       "      <td>0.000000</td>\n",
       "      <td>0.000000</td>\n",
       "      <td>0.000000</td>\n",
       "      <td>0.000000</td>\n",
       "    </tr>\n",
       "    <tr>\n",
       "      <th>50%</th>\n",
       "      <td>0.000000</td>\n",
       "      <td>0.000000</td>\n",
       "      <td>3.000000</td>\n",
       "      <td>0.520000</td>\n",
       "      <td>0.020000</td>\n",
       "      <td>0.020000</td>\n",
       "      <td>7.000000</td>\n",
       "      <td>0.000000</td>\n",
       "      <td>1.000000</td>\n",
       "      <td>3.000000</td>\n",
       "      <td>0.000000</td>\n",
       "      <td>0.000000</td>\n",
       "      <td>0.000000</td>\n",
       "      <td>0.000000</td>\n",
       "      <td>0.000000</td>\n",
       "    </tr>\n",
       "    <tr>\n",
       "      <th>75%</th>\n",
       "      <td>0.000000</td>\n",
       "      <td>0.000000</td>\n",
       "      <td>18.000000</td>\n",
       "      <td>4.270000</td>\n",
       "      <td>0.310000</td>\n",
       "      <td>0.350000</td>\n",
       "      <td>76.750000</td>\n",
       "      <td>4.000000</td>\n",
       "      <td>16.000000</td>\n",
       "      <td>40.000000</td>\n",
       "      <td>0.000000</td>\n",
       "      <td>42.000000</td>\n",
       "      <td>0.000000</td>\n",
       "      <td>0.000000</td>\n",
       "      <td>0.000000</td>\n",
       "    </tr>\n",
       "    <tr>\n",
       "      <th>max</th>\n",
       "      <td>150000.000000</td>\n",
       "      <td>347309.000000</td>\n",
       "      <td>1711.000000</td>\n",
       "      <td>430.760000</td>\n",
       "      <td>60.760000</td>\n",
       "      <td>54.970000</td>\n",
       "      <td>739267.000000</td>\n",
       "      <td>42797.000000</td>\n",
       "      <td>63381.000000</td>\n",
       "      <td>426850.000000</td>\n",
       "      <td>55047.000000</td>\n",
       "      <td>739267.000000</td>\n",
       "      <td>17060.000000</td>\n",
       "      <td>326711.000000</td>\n",
       "      <td>5284.000000</td>\n",
       "    </tr>\n",
       "  </tbody>\n",
       "</table>\n",
       "</div>"
      ],
      "text/plain": [
       "       Aliments pour animaux  Autres Utilisations  \\\n",
       "count           15605.000000         15605.000000   \n",
       "mean               83.578661            55.432426   \n",
       "std              1779.289153          3013.629812   \n",
       "min                 0.000000             0.000000   \n",
       "25%                 0.000000             0.000000   \n",
       "50%                 0.000000             0.000000   \n",
       "75%                 0.000000             0.000000   \n",
       "max            150000.000000        347309.000000   \n",
       "\n",
       "       Disponibilité alimentaire (Kcal/personne/jour)  \\\n",
       "count                                    15605.000000   \n",
       "mean                                        31.748927   \n",
       "std                                        102.961194   \n",
       "min                                        -21.000000   \n",
       "25%                                          0.000000   \n",
       "50%                                          3.000000   \n",
       "75%                                         18.000000   \n",
       "max                                       1711.000000   \n",
       "\n",
       "       Disponibilité alimentaire en quantité (kg/personne/an)  \\\n",
       "count                                       15605.000000        \n",
       "mean                                            7.830948        \n",
       "std                                            23.478909        \n",
       "min                                            -1.930000        \n",
       "25%                                             0.010000        \n",
       "50%                                             0.520000        \n",
       "75%                                             4.270000        \n",
       "max                                           430.760000        \n",
       "\n",
       "       Disponibilité de matière grasse en quantité (g/personne/jour)  \\\n",
       "count                                       15605.000000               \n",
       "mean                                            0.969754               \n",
       "std                                             3.246695               \n",
       "min                                            -0.030000               \n",
       "25%                                             0.000000               \n",
       "50%                                             0.020000               \n",
       "75%                                             0.310000               \n",
       "max                                            60.760000               \n",
       "\n",
       "       Disponibilité de protéines en quantité (g/personne/jour)  \\\n",
       "count                                       15605.000000          \n",
       "mean                                            0.906513          \n",
       "std                                             3.143516          \n",
       "min                                            -0.370000          \n",
       "25%                                             0.000000          \n",
       "50%                                             0.020000          \n",
       "75%                                             0.350000          \n",
       "max                                            54.970000          \n",
       "\n",
       "       Disponibilité intérieure  Exportations - Quantité  \\\n",
       "count              15382.000000             15605.000000   \n",
       "mean                 640.293460                86.649023   \n",
       "std                 9067.267153               933.435208   \n",
       "min                -3430.000000               -41.000000   \n",
       "25%                    0.000000                 0.000000   \n",
       "50%                    7.000000                 0.000000   \n",
       "75%                   76.750000                 4.000000   \n",
       "max               739267.000000             42797.000000   \n",
       "\n",
       "       Importations - Quantité     Nourriture        Pertes     Production  \\\n",
       "count             15605.000000   15605.000000  15605.000000   15605.000000   \n",
       "mean                 83.053701     312.480487     29.073887     641.440564   \n",
       "std                 700.099451    4242.854724    584.672236    9270.864198   \n",
       "min                -201.000000    -246.000000      0.000000       0.000000   \n",
       "25%                   0.000000       0.000000      0.000000       0.000000   \n",
       "50%                   1.000000       3.000000      0.000000       0.000000   \n",
       "75%                  16.000000      40.000000      0.000000      42.000000   \n",
       "max               63381.000000  426850.000000  55047.000000  739267.000000   \n",
       "\n",
       "           Semences     Traitement  Variation de stock  \n",
       "count  15605.000000   15605.000000        15605.000000  \n",
       "mean       9.912272     141.280807           -6.690292  \n",
       "std      194.897843    3992.567621          362.380787  \n",
       "min        0.000000     -19.000000       -39863.000000  \n",
       "25%        0.000000       0.000000            0.000000  \n",
       "50%        0.000000       0.000000            0.000000  \n",
       "75%        0.000000       0.000000            0.000000  \n",
       "max    17060.000000  326711.000000         5284.000000  "
      ]
     },
     "execution_count": 155,
     "metadata": {},
     "output_type": "execute_result"
    }
   ],
   "source": [
    "df_dispo_ali.describe()"
   ]
  },
  {
   "cell_type": "markdown",
   "id": "c8acd2d0",
   "metadata": {},
   "source": [
    "#### générer le fichier dispo_ali CSV traité"
   ]
  },
  {
   "cell_type": "code",
   "execution_count": 156,
   "id": "487e3a2a",
   "metadata": {},
   "outputs": [],
   "source": [
    "dispo_ali_nettoye=\"/Users/yathyarayamauchiferreira/Documents/OpenClassrooms/Projet 4/DAN-P4-FAO/dispo_alimentaire_nettoye.csv\"\n",
    "df_dispo_ali.to_csv(dispo_ali_nettoye, index=False)\n"
   ]
  },
  {
   "cell_type": "markdown",
   "id": "95c0d508",
   "metadata": {},
   "source": [
    "### Fichier SOUS NUTRITION"
   ]
  },
  {
   "cell_type": "markdown",
   "id": "c754b03d",
   "metadata": {},
   "source": [
    "#### Importation et lecture du fichier CSV "
   ]
  },
  {
   "cell_type": "code",
   "execution_count": 243,
   "id": "0214c0c6",
   "metadata": {},
   "outputs": [
    {
     "data": {
      "text/html": [
       "<div>\n",
       "<style scoped>\n",
       "    .dataframe tbody tr th:only-of-type {\n",
       "        vertical-align: middle;\n",
       "    }\n",
       "\n",
       "    .dataframe tbody tr th {\n",
       "        vertical-align: top;\n",
       "    }\n",
       "\n",
       "    .dataframe thead th {\n",
       "        text-align: right;\n",
       "    }\n",
       "</style>\n",
       "<table border=\"1\" class=\"dataframe\">\n",
       "  <thead>\n",
       "    <tr style=\"text-align: right;\">\n",
       "      <th></th>\n",
       "      <th>Zone</th>\n",
       "      <th>Année</th>\n",
       "      <th>Valeur</th>\n",
       "    </tr>\n",
       "  </thead>\n",
       "  <tbody>\n",
       "    <tr>\n",
       "      <th>0</th>\n",
       "      <td>Afghanistan</td>\n",
       "      <td>2012-2014</td>\n",
       "      <td>8.6</td>\n",
       "    </tr>\n",
       "    <tr>\n",
       "      <th>1</th>\n",
       "      <td>Afghanistan</td>\n",
       "      <td>2013-2015</td>\n",
       "      <td>8.8</td>\n",
       "    </tr>\n",
       "    <tr>\n",
       "      <th>2</th>\n",
       "      <td>Afghanistan</td>\n",
       "      <td>2014-2016</td>\n",
       "      <td>8.9</td>\n",
       "    </tr>\n",
       "    <tr>\n",
       "      <th>3</th>\n",
       "      <td>Afghanistan</td>\n",
       "      <td>2015-2017</td>\n",
       "      <td>9.7</td>\n",
       "    </tr>\n",
       "    <tr>\n",
       "      <th>4</th>\n",
       "      <td>Afghanistan</td>\n",
       "      <td>2016-2018</td>\n",
       "      <td>10.5</td>\n",
       "    </tr>\n",
       "    <tr>\n",
       "      <th>...</th>\n",
       "      <td>...</td>\n",
       "      <td>...</td>\n",
       "      <td>...</td>\n",
       "    </tr>\n",
       "    <tr>\n",
       "      <th>60</th>\n",
       "      <td>Arménie</td>\n",
       "      <td>2012-2014</td>\n",
       "      <td>&lt;0.1</td>\n",
       "    </tr>\n",
       "    <tr>\n",
       "      <th>61</th>\n",
       "      <td>Arménie</td>\n",
       "      <td>2013-2015</td>\n",
       "      <td>&lt;0.1</td>\n",
       "    </tr>\n",
       "    <tr>\n",
       "      <th>62</th>\n",
       "      <td>Arménie</td>\n",
       "      <td>2014-2016</td>\n",
       "      <td>&lt;0.1</td>\n",
       "    </tr>\n",
       "    <tr>\n",
       "      <th>63</th>\n",
       "      <td>Arménie</td>\n",
       "      <td>2015-2017</td>\n",
       "      <td>&lt;0.1</td>\n",
       "    </tr>\n",
       "    <tr>\n",
       "      <th>64</th>\n",
       "      <td>Arménie</td>\n",
       "      <td>2016-2018</td>\n",
       "      <td>&lt;0.1</td>\n",
       "    </tr>\n",
       "  </tbody>\n",
       "</table>\n",
       "<p>65 rows × 3 columns</p>\n",
       "</div>"
      ],
      "text/plain": [
       "           Zone      Année Valeur\n",
       "0   Afghanistan  2012-2014    8.6\n",
       "1   Afghanistan  2013-2015    8.8\n",
       "2   Afghanistan  2014-2016    8.9\n",
       "3   Afghanistan  2015-2017    9.7\n",
       "4   Afghanistan  2016-2018   10.5\n",
       "..          ...        ...    ...\n",
       "60      Arménie  2012-2014   <0.1\n",
       "61      Arménie  2013-2015   <0.1\n",
       "62      Arménie  2014-2016   <0.1\n",
       "63      Arménie  2015-2017   <0.1\n",
       "64      Arménie  2016-2018   <0.1\n",
       "\n",
       "[65 rows x 3 columns]"
      ]
     },
     "execution_count": 243,
     "metadata": {},
     "output_type": "execute_result"
    }
   ],
   "source": [
    "df_sous_nutri = pd.read_csv(sous_nutri)\n",
    "df_sous_nutri.head(65)"
   ]
  },
  {
   "cell_type": "markdown",
   "id": "fc5baaec",
   "metadata": {},
   "source": [
    "#### Vérifier le nombre de lignes"
   ]
  },
  {
   "cell_type": "code",
   "execution_count": 230,
   "id": "b14ac346",
   "metadata": {},
   "outputs": [
    {
     "data": {
      "text/plain": [
       "(1218, 3)"
      ]
     },
     "execution_count": 230,
     "metadata": {},
     "output_type": "execute_result"
    }
   ],
   "source": [
    "df_sous_nutri.shape"
   ]
  },
  {
   "cell_type": "markdown",
   "id": "6b950ab5",
   "metadata": {},
   "source": [
    "#### Vérification de type de colonne et des valeurs manquantes\n"
   ]
  },
  {
   "cell_type": "code",
   "execution_count": 231,
   "id": "f1ab9ac5",
   "metadata": {},
   "outputs": [
    {
     "name": "stdout",
     "output_type": "stream",
     "text": [
      "<class 'pandas.core.frame.DataFrame'>\n",
      "RangeIndex: 1218 entries, 0 to 1217\n",
      "Data columns (total 3 columns):\n",
      " #   Column  Non-Null Count  Dtype \n",
      "---  ------  --------------  ----- \n",
      " 0   Zone    1218 non-null   object\n",
      " 1   Année   1218 non-null   object\n",
      " 2   Valeur  624 non-null    object\n",
      "dtypes: object(3)\n",
      "memory usage: 28.7+ KB\n"
     ]
    }
   ],
   "source": [
    "df_sous_nutri.info()"
   ]
  },
  {
   "cell_type": "markdown",
   "id": "5504dca9",
   "metadata": {},
   "source": [
    "#### remplacer NaN par zéro sur la colonne Valeur \n"
   ]
  },
  {
   "cell_type": "code",
   "execution_count": 244,
   "id": "a64656ea",
   "metadata": {},
   "outputs": [
    {
     "name": "stdout",
     "output_type": "stream",
     "text": [
      "<class 'pandas.core.frame.DataFrame'>\n",
      "RangeIndex: 1218 entries, 0 to 1217\n",
      "Data columns (total 3 columns):\n",
      " #   Column  Non-Null Count  Dtype \n",
      "---  ------  --------------  ----- \n",
      " 0   Zone    1218 non-null   object\n",
      " 1   Année   1218 non-null   object\n",
      " 2   Valeur  1218 non-null   object\n",
      "dtypes: object(3)\n",
      "memory usage: 28.7+ KB\n"
     ]
    }
   ],
   "source": [
    "df_sous_nutri.fillna({'Valeur':0},inplace=True)\n",
    "df_sous_nutri.info()"
   ]
  },
  {
   "cell_type": "markdown",
   "id": "2d82420d",
   "metadata": {},
   "source": [
    "#### remplacer <0.1 (valeur non numérique) par le correspondent 0,05 \n"
   ]
  },
  {
   "cell_type": "code",
   "execution_count": 245,
   "id": "a3c92650",
   "metadata": {},
   "outputs": [
    {
     "data": {
      "text/html": [
       "<div>\n",
       "<style scoped>\n",
       "    .dataframe tbody tr th:only-of-type {\n",
       "        vertical-align: middle;\n",
       "    }\n",
       "\n",
       "    .dataframe tbody tr th {\n",
       "        vertical-align: top;\n",
       "    }\n",
       "\n",
       "    .dataframe thead th {\n",
       "        text-align: right;\n",
       "    }\n",
       "</style>\n",
       "<table border=\"1\" class=\"dataframe\">\n",
       "  <thead>\n",
       "    <tr style=\"text-align: right;\">\n",
       "      <th></th>\n",
       "      <th>Zone</th>\n",
       "      <th>Année</th>\n",
       "      <th>Valeur</th>\n",
       "    </tr>\n",
       "  </thead>\n",
       "  <tbody>\n",
       "    <tr>\n",
       "      <th>0</th>\n",
       "      <td>Afghanistan</td>\n",
       "      <td>2012-2014</td>\n",
       "      <td>8.6</td>\n",
       "    </tr>\n",
       "    <tr>\n",
       "      <th>1</th>\n",
       "      <td>Afghanistan</td>\n",
       "      <td>2013-2015</td>\n",
       "      <td>8.8</td>\n",
       "    </tr>\n",
       "    <tr>\n",
       "      <th>2</th>\n",
       "      <td>Afghanistan</td>\n",
       "      <td>2014-2016</td>\n",
       "      <td>8.9</td>\n",
       "    </tr>\n",
       "    <tr>\n",
       "      <th>3</th>\n",
       "      <td>Afghanistan</td>\n",
       "      <td>2015-2017</td>\n",
       "      <td>9.7</td>\n",
       "    </tr>\n",
       "    <tr>\n",
       "      <th>4</th>\n",
       "      <td>Afghanistan</td>\n",
       "      <td>2016-2018</td>\n",
       "      <td>10.5</td>\n",
       "    </tr>\n",
       "    <tr>\n",
       "      <th>...</th>\n",
       "      <td>...</td>\n",
       "      <td>...</td>\n",
       "      <td>...</td>\n",
       "    </tr>\n",
       "    <tr>\n",
       "      <th>60</th>\n",
       "      <td>Arménie</td>\n",
       "      <td>2012-2014</td>\n",
       "      <td>0.05</td>\n",
       "    </tr>\n",
       "    <tr>\n",
       "      <th>61</th>\n",
       "      <td>Arménie</td>\n",
       "      <td>2013-2015</td>\n",
       "      <td>0.05</td>\n",
       "    </tr>\n",
       "    <tr>\n",
       "      <th>62</th>\n",
       "      <td>Arménie</td>\n",
       "      <td>2014-2016</td>\n",
       "      <td>0.05</td>\n",
       "    </tr>\n",
       "    <tr>\n",
       "      <th>63</th>\n",
       "      <td>Arménie</td>\n",
       "      <td>2015-2017</td>\n",
       "      <td>0.05</td>\n",
       "    </tr>\n",
       "    <tr>\n",
       "      <th>64</th>\n",
       "      <td>Arménie</td>\n",
       "      <td>2016-2018</td>\n",
       "      <td>0.05</td>\n",
       "    </tr>\n",
       "  </tbody>\n",
       "</table>\n",
       "<p>65 rows × 3 columns</p>\n",
       "</div>"
      ],
      "text/plain": [
       "           Zone      Année Valeur\n",
       "0   Afghanistan  2012-2014    8.6\n",
       "1   Afghanistan  2013-2015    8.8\n",
       "2   Afghanistan  2014-2016    8.9\n",
       "3   Afghanistan  2015-2017    9.7\n",
       "4   Afghanistan  2016-2018   10.5\n",
       "..          ...        ...    ...\n",
       "60      Arménie  2012-2014   0.05\n",
       "61      Arménie  2013-2015   0.05\n",
       "62      Arménie  2014-2016   0.05\n",
       "63      Arménie  2015-2017   0.05\n",
       "64      Arménie  2016-2018   0.05\n",
       "\n",
       "[65 rows x 3 columns]"
      ]
     },
     "execution_count": 245,
     "metadata": {},
     "output_type": "execute_result"
    }
   ],
   "source": [
    "df_sous_nutri['Valeur'].replace('<0.1','0.05',inplace=True)\n",
    "df_sous_nutri.head(65)"
   ]
  },
  {
   "cell_type": "markdown",
   "id": "18d6f2da",
   "metadata": {},
   "source": [
    "#### revérification des types de colonnes et des valeurs manquantes après modifications\n"
   ]
  },
  {
   "cell_type": "code",
   "execution_count": 246,
   "id": "91e61cd6",
   "metadata": {},
   "outputs": [
    {
     "name": "stdout",
     "output_type": "stream",
     "text": [
      "<class 'pandas.core.frame.DataFrame'>\n",
      "RangeIndex: 1218 entries, 0 to 1217\n",
      "Data columns (total 3 columns):\n",
      " #   Column  Non-Null Count  Dtype \n",
      "---  ------  --------------  ----- \n",
      " 0   Zone    1218 non-null   object\n",
      " 1   Année   1218 non-null   object\n",
      " 2   Valeur  1218 non-null   object\n",
      "dtypes: object(3)\n",
      "memory usage: 28.7+ KB\n"
     ]
    }
   ],
   "source": [
    "df_sous_nutri.info()"
   ]
  },
  {
   "cell_type": "markdown",
   "id": "ad4186ee",
   "metadata": {},
   "source": [
    "#### transformation de la colonne Valeur en float\n"
   ]
  },
  {
   "cell_type": "code",
   "execution_count": 247,
   "id": "1ca91a48",
   "metadata": {
    "scrolled": true
   },
   "outputs": [
    {
     "name": "stdout",
     "output_type": "stream",
     "text": [
      "<class 'pandas.core.frame.DataFrame'>\n",
      "RangeIndex: 1218 entries, 0 to 1217\n",
      "Data columns (total 3 columns):\n",
      " #   Column  Non-Null Count  Dtype  \n",
      "---  ------  --------------  -----  \n",
      " 0   Zone    1218 non-null   object \n",
      " 1   Année   1218 non-null   object \n",
      " 2   Valeur  1218 non-null   float64\n",
      "dtypes: float64(1), object(2)\n",
      "memory usage: 28.7+ KB\n"
     ]
    }
   ],
   "source": [
    "df_sous_nutri.Valeur = pd.to_numeric(df_sous_nutri.Valeur, errors='coerce')\n",
    "df_sous_nutri.info()\n"
   ]
  },
  {
   "cell_type": "markdown",
   "id": "30a7f746",
   "metadata": {},
   "source": [
    "#### Utiliser la fonction .apply (lambda) pour garder uniquement la première année (les 4 premiers chiffres) de la liste de la colonne Année"
   ]
  },
  {
   "cell_type": "code",
   "execution_count": 248,
   "id": "fd9c90e6",
   "metadata": {
    "scrolled": true
   },
   "outputs": [
    {
     "data": {
      "text/html": [
       "<div>\n",
       "<style scoped>\n",
       "    .dataframe tbody tr th:only-of-type {\n",
       "        vertical-align: middle;\n",
       "    }\n",
       "\n",
       "    .dataframe tbody tr th {\n",
       "        vertical-align: top;\n",
       "    }\n",
       "\n",
       "    .dataframe thead th {\n",
       "        text-align: right;\n",
       "    }\n",
       "</style>\n",
       "<table border=\"1\" class=\"dataframe\">\n",
       "  <thead>\n",
       "    <tr style=\"text-align: right;\">\n",
       "      <th></th>\n",
       "      <th>Zone</th>\n",
       "      <th>Année</th>\n",
       "      <th>Valeur</th>\n",
       "    </tr>\n",
       "  </thead>\n",
       "  <tbody>\n",
       "    <tr>\n",
       "      <th>0</th>\n",
       "      <td>Afghanistan</td>\n",
       "      <td>2013</td>\n",
       "      <td>8.6</td>\n",
       "    </tr>\n",
       "    <tr>\n",
       "      <th>1</th>\n",
       "      <td>Afghanistan</td>\n",
       "      <td>2014</td>\n",
       "      <td>8.8</td>\n",
       "    </tr>\n",
       "    <tr>\n",
       "      <th>2</th>\n",
       "      <td>Afghanistan</td>\n",
       "      <td>2015</td>\n",
       "      <td>8.9</td>\n",
       "    </tr>\n",
       "    <tr>\n",
       "      <th>3</th>\n",
       "      <td>Afghanistan</td>\n",
       "      <td>2016</td>\n",
       "      <td>9.7</td>\n",
       "    </tr>\n",
       "    <tr>\n",
       "      <th>4</th>\n",
       "      <td>Afghanistan</td>\n",
       "      <td>2017</td>\n",
       "      <td>10.5</td>\n",
       "    </tr>\n",
       "  </tbody>\n",
       "</table>\n",
       "</div>"
      ],
      "text/plain": [
       "          Zone  Année  Valeur\n",
       "0  Afghanistan   2013     8.6\n",
       "1  Afghanistan   2014     8.8\n",
       "2  Afghanistan   2015     8.9\n",
       "3  Afghanistan   2016     9.7\n",
       "4  Afghanistan   2017    10.5"
      ]
     },
     "execution_count": 248,
     "metadata": {},
     "output_type": "execute_result"
    }
   ],
   "source": [
    "df_sous_nutri['Année']=df_sous_nutri['Année'].apply(lambda x:int(x[:4])+1)\n",
    "df_sous_nutri.head()"
   ]
  },
  {
   "cell_type": "markdown",
   "id": "d57ac06f",
   "metadata": {},
   "source": [
    "#### revérification des types de colonnes et des valeurs manquantes après modifications\n"
   ]
  },
  {
   "cell_type": "code",
   "execution_count": 249,
   "id": "3e9bda0d",
   "metadata": {},
   "outputs": [
    {
     "name": "stdout",
     "output_type": "stream",
     "text": [
      "<class 'pandas.core.frame.DataFrame'>\n",
      "RangeIndex: 1218 entries, 0 to 1217\n",
      "Data columns (total 3 columns):\n",
      " #   Column  Non-Null Count  Dtype  \n",
      "---  ------  --------------  -----  \n",
      " 0   Zone    1218 non-null   object \n",
      " 1   Année   1218 non-null   int64  \n",
      " 2   Valeur  1218 non-null   float64\n",
      "dtypes: float64(1), int64(1), object(1)\n",
      "memory usage: 28.7+ KB\n"
     ]
    }
   ],
   "source": [
    "df_sous_nutri.info()"
   ]
  },
  {
   "cell_type": "markdown",
   "id": "b0a59e0b",
   "metadata": {},
   "source": [
    "#### vérifier s'il y a des doublons (duplicate) - on considere doublon une ligne qui a les mêmes valeurs sur 2 colonnes differentes\n"
   ]
  },
  {
   "cell_type": "code",
   "execution_count": 250,
   "id": "464fc67f",
   "metadata": {},
   "outputs": [
    {
     "data": {
      "text/plain": [
       "0"
      ]
     },
     "execution_count": 250,
     "metadata": {},
     "output_type": "execute_result"
    }
   ],
   "source": [
    "df_sous_nutri.duplicated(subset=['Zone','Année']).sum()"
   ]
  },
  {
   "cell_type": "markdown",
   "id": "7beaccc0",
   "metadata": {},
   "source": [
    "#### avoir une idée sur le statistiques descriptives des variables quantitatives\n"
   ]
  },
  {
   "cell_type": "code",
   "execution_count": 220,
   "id": "fe2fa80b",
   "metadata": {},
   "outputs": [
    {
     "data": {
      "text/html": [
       "<div>\n",
       "<style scoped>\n",
       "    .dataframe tbody tr th:only-of-type {\n",
       "        vertical-align: middle;\n",
       "    }\n",
       "\n",
       "    .dataframe tbody tr th {\n",
       "        vertical-align: top;\n",
       "    }\n",
       "\n",
       "    .dataframe thead th {\n",
       "        text-align: right;\n",
       "    }\n",
       "</style>\n",
       "<table border=\"1\" class=\"dataframe\">\n",
       "  <thead>\n",
       "    <tr style=\"text-align: right;\">\n",
       "      <th></th>\n",
       "      <th>Année</th>\n",
       "      <th>Valeur</th>\n",
       "    </tr>\n",
       "  </thead>\n",
       "  <tbody>\n",
       "    <tr>\n",
       "      <th>count</th>\n",
       "      <td>1218.000000</td>\n",
       "      <td>1218.000000</td>\n",
       "    </tr>\n",
       "    <tr>\n",
       "      <th>mean</th>\n",
       "      <td>2015.500000</td>\n",
       "      <td>2.619704</td>\n",
       "    </tr>\n",
       "    <tr>\n",
       "      <th>std</th>\n",
       "      <td>1.708527</td>\n",
       "      <td>14.147908</td>\n",
       "    </tr>\n",
       "    <tr>\n",
       "      <th>min</th>\n",
       "      <td>2013.000000</td>\n",
       "      <td>0.000000</td>\n",
       "    </tr>\n",
       "    <tr>\n",
       "      <th>25%</th>\n",
       "      <td>2014.000000</td>\n",
       "      <td>0.000000</td>\n",
       "    </tr>\n",
       "    <tr>\n",
       "      <th>50%</th>\n",
       "      <td>2015.500000</td>\n",
       "      <td>0.050000</td>\n",
       "    </tr>\n",
       "    <tr>\n",
       "      <th>75%</th>\n",
       "      <td>2017.000000</td>\n",
       "      <td>1.200000</td>\n",
       "    </tr>\n",
       "    <tr>\n",
       "      <th>max</th>\n",
       "      <td>2018.000000</td>\n",
       "      <td>203.800000</td>\n",
       "    </tr>\n",
       "  </tbody>\n",
       "</table>\n",
       "</div>"
      ],
      "text/plain": [
       "             Année       Valeur\n",
       "count  1218.000000  1218.000000\n",
       "mean   2015.500000     2.619704\n",
       "std       1.708527    14.147908\n",
       "min    2013.000000     0.000000\n",
       "25%    2014.000000     0.000000\n",
       "50%    2015.500000     0.050000\n",
       "75%    2017.000000     1.200000\n",
       "max    2018.000000   203.800000"
      ]
     },
     "execution_count": 220,
     "metadata": {},
     "output_type": "execute_result"
    }
   ],
   "source": [
    "df_sous_nutri.describe()"
   ]
  },
  {
   "cell_type": "markdown",
   "id": "e951df7b",
   "metadata": {},
   "source": [
    "#### generer fichier sous_nutri CSV traité"
   ]
  },
  {
   "cell_type": "code",
   "execution_count": 251,
   "id": "0f302466",
   "metadata": {},
   "outputs": [],
   "source": [
    "sous_nutri_nettoye=\"/Users/yathyarayamauchiferreira/Documents/OpenClassrooms/Projet 4/DAN-P4-FAO/sous_nutrition_nettoye.csv\"\n",
    "df_sous_nutri.to_csv(sous_nutri_nettoye, index=False)"
   ]
  },
  {
   "cell_type": "markdown",
   "id": "d43e3d29",
   "metadata": {},
   "source": [
    "### Fichier POPULATION"
   ]
  },
  {
   "cell_type": "markdown",
   "id": "ccbc9baa",
   "metadata": {},
   "source": [
    "#### Importation et lecture du fichier CSV"
   ]
  },
  {
   "cell_type": "code",
   "execution_count": 179,
   "id": "6f29f561",
   "metadata": {},
   "outputs": [
    {
     "data": {
      "text/html": [
       "<div>\n",
       "<style scoped>\n",
       "    .dataframe tbody tr th:only-of-type {\n",
       "        vertical-align: middle;\n",
       "    }\n",
       "\n",
       "    .dataframe tbody tr th {\n",
       "        vertical-align: top;\n",
       "    }\n",
       "\n",
       "    .dataframe thead th {\n",
       "        text-align: right;\n",
       "    }\n",
       "</style>\n",
       "<table border=\"1\" class=\"dataframe\">\n",
       "  <thead>\n",
       "    <tr style=\"text-align: right;\">\n",
       "      <th></th>\n",
       "      <th>Zone</th>\n",
       "      <th>Année</th>\n",
       "      <th>Valeur</th>\n",
       "    </tr>\n",
       "  </thead>\n",
       "  <tbody>\n",
       "    <tr>\n",
       "      <th>0</th>\n",
       "      <td>Afghanistan</td>\n",
       "      <td>2013</td>\n",
       "      <td>32269.589</td>\n",
       "    </tr>\n",
       "    <tr>\n",
       "      <th>1</th>\n",
       "      <td>Afghanistan</td>\n",
       "      <td>2014</td>\n",
       "      <td>33370.794</td>\n",
       "    </tr>\n",
       "    <tr>\n",
       "      <th>2</th>\n",
       "      <td>Afghanistan</td>\n",
       "      <td>2015</td>\n",
       "      <td>34413.603</td>\n",
       "    </tr>\n",
       "    <tr>\n",
       "      <th>3</th>\n",
       "      <td>Afghanistan</td>\n",
       "      <td>2016</td>\n",
       "      <td>35383.032</td>\n",
       "    </tr>\n",
       "    <tr>\n",
       "      <th>4</th>\n",
       "      <td>Afghanistan</td>\n",
       "      <td>2017</td>\n",
       "      <td>36296.113</td>\n",
       "    </tr>\n",
       "  </tbody>\n",
       "</table>\n",
       "</div>"
      ],
      "text/plain": [
       "          Zone  Année     Valeur\n",
       "0  Afghanistan   2013  32269.589\n",
       "1  Afghanistan   2014  33370.794\n",
       "2  Afghanistan   2015  34413.603\n",
       "3  Afghanistan   2016  35383.032\n",
       "4  Afghanistan   2017  36296.113"
      ]
     },
     "execution_count": 179,
     "metadata": {},
     "output_type": "execute_result"
    }
   ],
   "source": [
    "df_population = pd.read_csv(population)\n",
    "df_population.head()"
   ]
  },
  {
   "cell_type": "markdown",
   "id": "7bde85fd",
   "metadata": {},
   "source": [
    "#### Vérifier le nombre de lignes"
   ]
  },
  {
   "cell_type": "code",
   "execution_count": 180,
   "id": "f6b5926c",
   "metadata": {},
   "outputs": [
    {
     "data": {
      "text/plain": [
       "(1416, 3)"
      ]
     },
     "execution_count": 180,
     "metadata": {},
     "output_type": "execute_result"
    }
   ],
   "source": [
    "df_population.shape"
   ]
  },
  {
   "cell_type": "markdown",
   "id": "c7effaef",
   "metadata": {},
   "source": [
    "#### Vérification de type de colonne et des valeurs manquantes"
   ]
  },
  {
   "cell_type": "code",
   "execution_count": 181,
   "id": "30c2ff0e",
   "metadata": {},
   "outputs": [
    {
     "name": "stdout",
     "output_type": "stream",
     "text": [
      "<class 'pandas.core.frame.DataFrame'>\n",
      "RangeIndex: 1416 entries, 0 to 1415\n",
      "Data columns (total 3 columns):\n",
      " #   Column  Non-Null Count  Dtype  \n",
      "---  ------  --------------  -----  \n",
      " 0   Zone    1416 non-null   object \n",
      " 1   Année   1416 non-null   int64  \n",
      " 2   Valeur  1416 non-null   float64\n",
      "dtypes: float64(1), int64(1), object(1)\n",
      "memory usage: 33.3+ KB\n"
     ]
    }
   ],
   "source": [
    "df_population.info()"
   ]
  },
  {
   "cell_type": "markdown",
   "id": "9f463c5e",
   "metadata": {},
   "source": [
    "#### vérifier s'il y a des doublons (duplicate) - une ligne qui contient la même années, le même produit et le même pays"
   ]
  },
  {
   "cell_type": "code",
   "execution_count": 183,
   "id": "e9519cea",
   "metadata": {},
   "outputs": [
    {
     "data": {
      "text/plain": [
       "0"
      ]
     },
     "execution_count": 183,
     "metadata": {},
     "output_type": "execute_result"
    }
   ],
   "source": [
    "df_population.duplicated(subset=['Zone','Année']).sum()"
   ]
  },
  {
   "cell_type": "markdown",
   "id": "6428eeb5",
   "metadata": {},
   "source": [
    "#### avoir une idée sur le statistiques descriptives des variables quantitatives"
   ]
  },
  {
   "cell_type": "code",
   "execution_count": 184,
   "id": "52756235",
   "metadata": {},
   "outputs": [
    {
     "data": {
      "text/html": [
       "<div>\n",
       "<style scoped>\n",
       "    .dataframe tbody tr th:only-of-type {\n",
       "        vertical-align: middle;\n",
       "    }\n",
       "\n",
       "    .dataframe tbody tr th {\n",
       "        vertical-align: top;\n",
       "    }\n",
       "\n",
       "    .dataframe thead th {\n",
       "        text-align: right;\n",
       "    }\n",
       "</style>\n",
       "<table border=\"1\" class=\"dataframe\">\n",
       "  <thead>\n",
       "    <tr style=\"text-align: right;\">\n",
       "      <th></th>\n",
       "      <th>Année</th>\n",
       "      <th>Valeur</th>\n",
       "    </tr>\n",
       "  </thead>\n",
       "  <tbody>\n",
       "    <tr>\n",
       "      <th>count</th>\n",
       "      <td>1416.000000</td>\n",
       "      <td>1.416000e+03</td>\n",
       "    </tr>\n",
       "    <tr>\n",
       "      <th>mean</th>\n",
       "      <td>2015.500000</td>\n",
       "      <td>3.144793e+04</td>\n",
       "    </tr>\n",
       "    <tr>\n",
       "      <th>std</th>\n",
       "      <td>1.708428</td>\n",
       "      <td>1.300812e+05</td>\n",
       "    </tr>\n",
       "    <tr>\n",
       "      <th>min</th>\n",
       "      <td>2013.000000</td>\n",
       "      <td>7.930000e-01</td>\n",
       "    </tr>\n",
       "    <tr>\n",
       "      <th>25%</th>\n",
       "      <td>2014.000000</td>\n",
       "      <td>3.783410e+02</td>\n",
       "    </tr>\n",
       "    <tr>\n",
       "      <th>50%</th>\n",
       "      <td>2015.500000</td>\n",
       "      <td>5.126480e+03</td>\n",
       "    </tr>\n",
       "    <tr>\n",
       "      <th>75%</th>\n",
       "      <td>2017.000000</td>\n",
       "      <td>1.930666e+04</td>\n",
       "    </tr>\n",
       "    <tr>\n",
       "      <th>max</th>\n",
       "      <td>2018.000000</td>\n",
       "      <td>1.427648e+06</td>\n",
       "    </tr>\n",
       "  </tbody>\n",
       "</table>\n",
       "</div>"
      ],
      "text/plain": [
       "             Année        Valeur\n",
       "count  1416.000000  1.416000e+03\n",
       "mean   2015.500000  3.144793e+04\n",
       "std       1.708428  1.300812e+05\n",
       "min    2013.000000  7.930000e-01\n",
       "25%    2014.000000  3.783410e+02\n",
       "50%    2015.500000  5.126480e+03\n",
       "75%    2017.000000  1.930666e+04\n",
       "max    2018.000000  1.427648e+06"
      ]
     },
     "execution_count": 184,
     "metadata": {},
     "output_type": "execute_result"
    }
   ],
   "source": [
    "df_population.describe()"
   ]
  },
  {
   "cell_type": "markdown",
   "id": "e9ad3a27",
   "metadata": {},
   "source": [
    "#### generer fichier aide_ali CSV traité"
   ]
  },
  {
   "cell_type": "code",
   "execution_count": 252,
   "id": "e7efa257",
   "metadata": {},
   "outputs": [],
   "source": [
    "population_nettoye=\"/Users/yathyarayamauchiferreira/Documents/OpenClassrooms/Projet 4/DAN-P4-FAO/population_nettoye.csv\"\n",
    "df_population.to_csv(population_nettoye, index=False)"
   ]
  },
  {
   "cell_type": "markdown",
   "id": "736d618e",
   "metadata": {},
   "source": [
    "### Fichier LISTE CEREALES"
   ]
  },
  {
   "cell_type": "code",
   "execution_count": 259,
   "id": "bfebdf15",
   "metadata": {},
   "outputs": [
    {
     "data": {
      "text/html": [
       "<div>\n",
       "<style scoped>\n",
       "    .dataframe tbody tr th:only-of-type {\n",
       "        vertical-align: middle;\n",
       "    }\n",
       "\n",
       "    .dataframe tbody tr th {\n",
       "        vertical-align: top;\n",
       "    }\n",
       "\n",
       "    .dataframe thead th {\n",
       "        text-align: right;\n",
       "    }\n",
       "</style>\n",
       "<table border=\"1\" class=\"dataframe\">\n",
       "  <thead>\n",
       "    <tr style=\"text-align: right;\">\n",
       "      <th></th>\n",
       "      <th>Code Domaine</th>\n",
       "      <th>Domaine</th>\n",
       "      <th>Code zone (M49)</th>\n",
       "      <th>Zone</th>\n",
       "      <th>Code Élément</th>\n",
       "      <th>Élément</th>\n",
       "      <th>Code Produit (CPC)</th>\n",
       "      <th>Produit</th>\n",
       "      <th>Code année</th>\n",
       "      <th>Année</th>\n",
       "      <th>Unité</th>\n",
       "      <th>Valeur</th>\n",
       "      <th>Symbole</th>\n",
       "      <th>Description du Symbole</th>\n",
       "    </tr>\n",
       "  </thead>\n",
       "  <tbody>\n",
       "    <tr>\n",
       "      <th>0</th>\n",
       "      <td>FBS</td>\n",
       "      <td>Bilans Alimentaires (2010-)</td>\n",
       "      <td>4</td>\n",
       "      <td>Afghanistan</td>\n",
       "      <td>5511</td>\n",
       "      <td>Production</td>\n",
       "      <td>S2511</td>\n",
       "      <td>Blé et produits</td>\n",
       "      <td>2017</td>\n",
       "      <td>2017</td>\n",
       "      <td>Milliers de tonnes</td>\n",
       "      <td>4281.0</td>\n",
       "      <td>I</td>\n",
       "      <td>Valeur imputée</td>\n",
       "    </tr>\n",
       "    <tr>\n",
       "      <th>1</th>\n",
       "      <td>FBS</td>\n",
       "      <td>Bilans Alimentaires (2010-)</td>\n",
       "      <td>4</td>\n",
       "      <td>Afghanistan</td>\n",
       "      <td>5611</td>\n",
       "      <td>Importations - Quantité</td>\n",
       "      <td>S2511</td>\n",
       "      <td>Blé et produits</td>\n",
       "      <td>2017</td>\n",
       "      <td>2017</td>\n",
       "      <td>Milliers de tonnes</td>\n",
       "      <td>3080.0</td>\n",
       "      <td>I</td>\n",
       "      <td>Valeur imputée</td>\n",
       "    </tr>\n",
       "    <tr>\n",
       "      <th>2</th>\n",
       "      <td>FBS</td>\n",
       "      <td>Bilans Alimentaires (2010-)</td>\n",
       "      <td>4</td>\n",
       "      <td>Afghanistan</td>\n",
       "      <td>5072</td>\n",
       "      <td>Variation de stock</td>\n",
       "      <td>S2511</td>\n",
       "      <td>Blé et produits</td>\n",
       "      <td>2017</td>\n",
       "      <td>2017</td>\n",
       "      <td>Milliers de tonnes</td>\n",
       "      <td>208.0</td>\n",
       "      <td>I</td>\n",
       "      <td>Valeur imputée</td>\n",
       "    </tr>\n",
       "    <tr>\n",
       "      <th>3</th>\n",
       "      <td>FBS</td>\n",
       "      <td>Bilans Alimentaires (2010-)</td>\n",
       "      <td>4</td>\n",
       "      <td>Afghanistan</td>\n",
       "      <td>5911</td>\n",
       "      <td>Exportations - Quantité</td>\n",
       "      <td>S2511</td>\n",
       "      <td>Blé et produits</td>\n",
       "      <td>2017</td>\n",
       "      <td>2017</td>\n",
       "      <td>Milliers de tonnes</td>\n",
       "      <td>2.0</td>\n",
       "      <td>I</td>\n",
       "      <td>Valeur imputée</td>\n",
       "    </tr>\n",
       "    <tr>\n",
       "      <th>4</th>\n",
       "      <td>FBS</td>\n",
       "      <td>Bilans Alimentaires (2010-)</td>\n",
       "      <td>4</td>\n",
       "      <td>Afghanistan</td>\n",
       "      <td>5301</td>\n",
       "      <td>Disponibilité intérieure</td>\n",
       "      <td>S2511</td>\n",
       "      <td>Blé et produits</td>\n",
       "      <td>2017</td>\n",
       "      <td>2017</td>\n",
       "      <td>Milliers de tonnes</td>\n",
       "      <td>7151.0</td>\n",
       "      <td>I</td>\n",
       "      <td>Valeur imputée</td>\n",
       "    </tr>\n",
       "  </tbody>\n",
       "</table>\n",
       "</div>"
      ],
      "text/plain": [
       "  Code Domaine                      Domaine  Code zone (M49)         Zone  \\\n",
       "0          FBS  Bilans Alimentaires (2010-)                4  Afghanistan   \n",
       "1          FBS  Bilans Alimentaires (2010-)                4  Afghanistan   \n",
       "2          FBS  Bilans Alimentaires (2010-)                4  Afghanistan   \n",
       "3          FBS  Bilans Alimentaires (2010-)                4  Afghanistan   \n",
       "4          FBS  Bilans Alimentaires (2010-)                4  Afghanistan   \n",
       "\n",
       "   Code Élément                   Élément Code Produit (CPC)          Produit  \\\n",
       "0          5511                Production              S2511  Blé et produits   \n",
       "1          5611   Importations - Quantité              S2511  Blé et produits   \n",
       "2          5072        Variation de stock              S2511  Blé et produits   \n",
       "3          5911   Exportations - Quantité              S2511  Blé et produits   \n",
       "4          5301  Disponibilité intérieure              S2511  Blé et produits   \n",
       "\n",
       "   Code année  Année               Unité  Valeur Symbole  \\\n",
       "0        2017   2017  Milliers de tonnes  4281.0       I   \n",
       "1        2017   2017  Milliers de tonnes  3080.0       I   \n",
       "2        2017   2017  Milliers de tonnes   208.0       I   \n",
       "3        2017   2017  Milliers de tonnes     2.0       I   \n",
       "4        2017   2017  Milliers de tonnes  7151.0       I   \n",
       "\n",
       "  Description du Symbole  \n",
       "0         Valeur imputée  \n",
       "1         Valeur imputée  \n",
       "2         Valeur imputée  \n",
       "3         Valeur imputée  \n",
       "4         Valeur imputée  "
      ]
     },
     "execution_count": 259,
     "metadata": {},
     "output_type": "execute_result"
    }
   ],
   "source": [
    "df_liste_cereales = pd.read_csv(liste_cereales)\n",
    "df_liste_cereales.head()"
   ]
  },
  {
   "cell_type": "code",
   "execution_count": 263,
   "id": "f08f223a",
   "metadata": {},
   "outputs": [
    {
     "data": {
      "text/html": [
       "<div>\n",
       "<style scoped>\n",
       "    .dataframe tbody tr th:only-of-type {\n",
       "        vertical-align: middle;\n",
       "    }\n",
       "\n",
       "    .dataframe tbody tr th {\n",
       "        vertical-align: top;\n",
       "    }\n",
       "\n",
       "    .dataframe thead th {\n",
       "        text-align: right;\n",
       "    }\n",
       "</style>\n",
       "<table border=\"1\" class=\"dataframe\">\n",
       "  <thead>\n",
       "    <tr style=\"text-align: right;\">\n",
       "      <th></th>\n",
       "      <th>Code Domaine</th>\n",
       "      <th>Domaine</th>\n",
       "      <th>Code zone (M49)</th>\n",
       "      <th>Zone</th>\n",
       "      <th>Code Élément</th>\n",
       "      <th>Élément</th>\n",
       "      <th>Code Produit (CPC)</th>\n",
       "      <th>Produit</th>\n",
       "      <th>Code année</th>\n",
       "      <th>Année</th>\n",
       "      <th>Unité</th>\n",
       "      <th>Valeur</th>\n",
       "      <th>Symbole</th>\n",
       "      <th>Description du Symbole</th>\n",
       "    </tr>\n",
       "  </thead>\n",
       "  <tbody>\n",
       "    <tr>\n",
       "      <th>0</th>\n",
       "      <td>FBS</td>\n",
       "      <td>Bilans Alimentaires (2010-)</td>\n",
       "      <td>4</td>\n",
       "      <td>Afghanistan</td>\n",
       "      <td>5511</td>\n",
       "      <td>Production</td>\n",
       "      <td>S2511</td>\n",
       "      <td>Blé et produits</td>\n",
       "      <td>2017</td>\n",
       "      <td>2017</td>\n",
       "      <td>Milliers de tonnes</td>\n",
       "      <td>4281.0</td>\n",
       "      <td>I</td>\n",
       "      <td>Valeur imputée</td>\n",
       "    </tr>\n",
       "    <tr>\n",
       "      <th>14</th>\n",
       "      <td>FBS</td>\n",
       "      <td>Bilans Alimentaires (2010-)</td>\n",
       "      <td>4</td>\n",
       "      <td>Afghanistan</td>\n",
       "      <td>5511</td>\n",
       "      <td>Production</td>\n",
       "      <td>S2807</td>\n",
       "      <td>Riz et produits</td>\n",
       "      <td>2017</td>\n",
       "      <td>2017</td>\n",
       "      <td>Milliers de tonnes</td>\n",
       "      <td>338.0</td>\n",
       "      <td>I</td>\n",
       "      <td>Valeur imputée</td>\n",
       "    </tr>\n",
       "    <tr>\n",
       "      <th>28</th>\n",
       "      <td>FBS</td>\n",
       "      <td>Bilans Alimentaires (2010-)</td>\n",
       "      <td>4</td>\n",
       "      <td>Afghanistan</td>\n",
       "      <td>5511</td>\n",
       "      <td>Production</td>\n",
       "      <td>S2513</td>\n",
       "      <td>Orge et produits</td>\n",
       "      <td>2017</td>\n",
       "      <td>2017</td>\n",
       "      <td>Milliers de tonnes</td>\n",
       "      <td>95.0</td>\n",
       "      <td>I</td>\n",
       "      <td>Valeur imputée</td>\n",
       "    </tr>\n",
       "    <tr>\n",
       "      <th>42</th>\n",
       "      <td>FBS</td>\n",
       "      <td>Bilans Alimentaires (2010-)</td>\n",
       "      <td>4</td>\n",
       "      <td>Afghanistan</td>\n",
       "      <td>5511</td>\n",
       "      <td>Production</td>\n",
       "      <td>S2514</td>\n",
       "      <td>Maïs et produits</td>\n",
       "      <td>2017</td>\n",
       "      <td>2017</td>\n",
       "      <td>Milliers de tonnes</td>\n",
       "      <td>174.0</td>\n",
       "      <td>I</td>\n",
       "      <td>Valeur imputée</td>\n",
       "    </tr>\n",
       "    <tr>\n",
       "      <th>57</th>\n",
       "      <td>FBS</td>\n",
       "      <td>Bilans Alimentaires (2010-)</td>\n",
       "      <td>4</td>\n",
       "      <td>Afghanistan</td>\n",
       "      <td>5611</td>\n",
       "      <td>Importations - Quantité</td>\n",
       "      <td>S2515</td>\n",
       "      <td>Seigle et produits</td>\n",
       "      <td>2017</td>\n",
       "      <td>2017</td>\n",
       "      <td>Milliers de tonnes</td>\n",
       "      <td>0.0</td>\n",
       "      <td>I</td>\n",
       "      <td>Valeur imputée</td>\n",
       "    </tr>\n",
       "    <tr>\n",
       "      <th>67</th>\n",
       "      <td>FBS</td>\n",
       "      <td>Bilans Alimentaires (2010-)</td>\n",
       "      <td>4</td>\n",
       "      <td>Afghanistan</td>\n",
       "      <td>5611</td>\n",
       "      <td>Importations - Quantité</td>\n",
       "      <td>S2516</td>\n",
       "      <td>Avoine</td>\n",
       "      <td>2017</td>\n",
       "      <td>2017</td>\n",
       "      <td>Milliers de tonnes</td>\n",
       "      <td>0.0</td>\n",
       "      <td>I</td>\n",
       "      <td>Valeur imputée</td>\n",
       "    </tr>\n",
       "    <tr>\n",
       "      <th>77</th>\n",
       "      <td>FBS</td>\n",
       "      <td>Bilans Alimentaires (2010-)</td>\n",
       "      <td>4</td>\n",
       "      <td>Afghanistan</td>\n",
       "      <td>5511</td>\n",
       "      <td>Production</td>\n",
       "      <td>S2517</td>\n",
       "      <td>Millet et produits</td>\n",
       "      <td>2017</td>\n",
       "      <td>2017</td>\n",
       "      <td>Milliers de tonnes</td>\n",
       "      <td>6.0</td>\n",
       "      <td>I</td>\n",
       "      <td>Valeur imputée</td>\n",
       "    </tr>\n",
       "    <tr>\n",
       "      <th>90</th>\n",
       "      <td>FBS</td>\n",
       "      <td>Bilans Alimentaires (2010-)</td>\n",
       "      <td>4</td>\n",
       "      <td>Afghanistan</td>\n",
       "      <td>5611</td>\n",
       "      <td>Importations - Quantité</td>\n",
       "      <td>S2518</td>\n",
       "      <td>Sorgho et produits</td>\n",
       "      <td>2017</td>\n",
       "      <td>2017</td>\n",
       "      <td>Milliers de tonnes</td>\n",
       "      <td>0.0</td>\n",
       "      <td>I</td>\n",
       "      <td>Valeur imputée</td>\n",
       "    </tr>\n",
       "    <tr>\n",
       "      <th>100</th>\n",
       "      <td>FBS</td>\n",
       "      <td>Bilans Alimentaires (2010-)</td>\n",
       "      <td>4</td>\n",
       "      <td>Afghanistan</td>\n",
       "      <td>5611</td>\n",
       "      <td>Importations - Quantité</td>\n",
       "      <td>S2520</td>\n",
       "      <td>Céréales, Autres</td>\n",
       "      <td>2017</td>\n",
       "      <td>2017</td>\n",
       "      <td>Milliers de tonnes</td>\n",
       "      <td>0.0</td>\n",
       "      <td>I</td>\n",
       "      <td>Valeur imputée</td>\n",
       "    </tr>\n",
       "  </tbody>\n",
       "</table>\n",
       "</div>"
      ],
      "text/plain": [
       "    Code Domaine                      Domaine  Code zone (M49)         Zone  \\\n",
       "0            FBS  Bilans Alimentaires (2010-)                4  Afghanistan   \n",
       "14           FBS  Bilans Alimentaires (2010-)                4  Afghanistan   \n",
       "28           FBS  Bilans Alimentaires (2010-)                4  Afghanistan   \n",
       "42           FBS  Bilans Alimentaires (2010-)                4  Afghanistan   \n",
       "57           FBS  Bilans Alimentaires (2010-)                4  Afghanistan   \n",
       "67           FBS  Bilans Alimentaires (2010-)                4  Afghanistan   \n",
       "77           FBS  Bilans Alimentaires (2010-)                4  Afghanistan   \n",
       "90           FBS  Bilans Alimentaires (2010-)                4  Afghanistan   \n",
       "100          FBS  Bilans Alimentaires (2010-)                4  Afghanistan   \n",
       "\n",
       "     Code Élément                  Élément Code Produit (CPC)  \\\n",
       "0            5511               Production              S2511   \n",
       "14           5511               Production              S2807   \n",
       "28           5511               Production              S2513   \n",
       "42           5511               Production              S2514   \n",
       "57           5611  Importations - Quantité              S2515   \n",
       "67           5611  Importations - Quantité              S2516   \n",
       "77           5511               Production              S2517   \n",
       "90           5611  Importations - Quantité              S2518   \n",
       "100          5611  Importations - Quantité              S2520   \n",
       "\n",
       "                Produit  Code année  Année               Unité  Valeur  \\\n",
       "0       Blé et produits        2017   2017  Milliers de tonnes  4281.0   \n",
       "14      Riz et produits        2017   2017  Milliers de tonnes   338.0   \n",
       "28     Orge et produits        2017   2017  Milliers de tonnes    95.0   \n",
       "42     Maïs et produits        2017   2017  Milliers de tonnes   174.0   \n",
       "57   Seigle et produits        2017   2017  Milliers de tonnes     0.0   \n",
       "67               Avoine        2017   2017  Milliers de tonnes     0.0   \n",
       "77   Millet et produits        2017   2017  Milliers de tonnes     6.0   \n",
       "90   Sorgho et produits        2017   2017  Milliers de tonnes     0.0   \n",
       "100    Céréales, Autres        2017   2017  Milliers de tonnes     0.0   \n",
       "\n",
       "    Symbole Description du Symbole  \n",
       "0         I         Valeur imputée  \n",
       "14        I         Valeur imputée  \n",
       "28        I         Valeur imputée  \n",
       "42        I         Valeur imputée  \n",
       "57        I         Valeur imputée  \n",
       "67        I         Valeur imputée  \n",
       "77        I         Valeur imputée  \n",
       "90        I         Valeur imputée  \n",
       "100       I         Valeur imputée  "
      ]
     },
     "execution_count": 263,
     "metadata": {},
     "output_type": "execute_result"
    }
   ],
   "source": [
    "df_liste_cereales.drop_duplicates(subset=['Produit'])\n"
   ]
  }
 ],
 "metadata": {
  "kernelspec": {
   "display_name": "Python 3 (ipykernel)",
   "language": "python",
   "name": "python3"
  },
  "language_info": {
   "codemirror_mode": {
    "name": "ipython",
    "version": 3
   },
   "file_extension": ".py",
   "mimetype": "text/x-python",
   "name": "python",
   "nbconvert_exporter": "python",
   "pygments_lexer": "ipython3",
   "version": "3.9.13"
  }
 },
 "nbformat": 4,
 "nbformat_minor": 5
}
